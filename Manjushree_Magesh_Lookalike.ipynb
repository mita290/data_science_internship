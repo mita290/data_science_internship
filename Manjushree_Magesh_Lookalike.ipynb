{
 "cells": [
  {
   "cell_type": "code",
   "execution_count": 3,
   "id": "c8c234ae",
   "metadata": {},
   "outputs": [],
   "source": [
    "import pandas as pd\n",
    "import numpy as np\n",
    "from sklearn.metrics.pairwise import cosine_similarity\n",
    "from sklearn.preprocessing import MinMaxScaler\n",
    "\n",
    "customers = pd.read_csv('Customers.csv')\n",
    "transactions = pd.read_csv('Transactions.csv')\n",
    "products = pd.read_csv('Products.csv')\n",
    "\n",
    "transactions = transactions.merge(products, on='ProductID', how='left')\n",
    "\n",
    "customer_transactions = transactions.groupby('CustomerID').agg({\n",
    "    'TotalValue': 'sum',\n",
    "    'Quantity': 'sum',\n",
    "    'ProductID': lambda x: x.nunique(),  \n",
    "    'Category': lambda x: x.mode()[0] if len(x) > 0 else None  \n",
    "}).reset_index()\n",
    "customer_transactions.rename(columns={\n",
    "    'TotalValue': 'TotalSpent',\n",
    "    'Quantity': 'TotalQuantity',\n",
    "    'ProductID': 'UniqueProducts',\n",
    "    'Category': 'FavoriteCategory'\n",
    "}, inplace=True)\n",
    "\n"
   ]
  },
  {
   "cell_type": "code",
   "execution_count": 4,
   "id": "ec988794",
   "metadata": {},
   "outputs": [
    {
     "name": "stdout",
     "output_type": "stream",
     "text": [
      "Manjushree_Magesh_Lookalike.csv has been generated successfully!\n"
     ]
    }
   ],
   "source": [
    "customer_data = customers.merge(customer_transactions, on='CustomerID', how='left')\n",
    "\n",
    "customer_data['TotalSpent'].fillna(0, inplace=True)\n",
    "customer_data['TotalQuantity'].fillna(0, inplace=True)\n",
    "customer_data['UniqueProducts'].fillna(0, inplace=True)\n",
    "customer_data['FavoriteCategory'].fillna('Unknown', inplace=True)\n",
    "\n",
    "customer_data = pd.get_dummies(customer_data, columns=['Region', 'FavoriteCategory'], drop_first=True)\n",
    "\n",
    "scaler = MinMaxScaler()\n",
    "features = customer_data.drop(columns=['CustomerID', 'CustomerName', 'TransactionDate'], errors='ignore')\n",
    "\n",
    "if 'TransactionDate' in customer_data.columns:\n",
    "    customer_data['TransactionDate'] = pd.to_datetime(customer_data['TransactionDate'], errors='coerce')\n",
    "    features['TransactionDateNumeric'] = (customer_data['TransactionDate'] - pd.Timestamp('1970-01-01')).dt.days\n",
    "\n",
    "features = pd.get_dummies(features, drop_first=True)\n",
    "\n",
    "scaled_features = scaler.fit_transform(features)\n",
    "\n",
    "scaled_features = scaler.fit_transform(features)\n",
    "\n",
    "similarity_matrix = cosine_similarity(scaled_features)\n",
    "\n",
    "lookalike_map = {}\n",
    "customer_ids = customer_data['CustomerID'].values\n",
    "for i, customer_id in enumerate(customer_ids[:20]):  \n",
    "    similarity_scores = similarity_matrix[i]\n",
    "    similar_indices = similarity_scores.argsort()[::-1][1:4]  \n",
    "    similar_customers = [(customer_ids[j], similarity_scores[j]) for j in similar_indices]\n",
    "    lookalike_map[customer_id] = similar_customers\n",
    "\n",
    "lookalike_output = []\n",
    "for cust_id, similar_list in lookalike_map.items():\n",
    "    row = [cust_id]\n",
    "    for similar_cust, score in similar_list:\n",
    "        row.append((similar_cust, round(score, 4)))\n",
    "    lookalike_output.append(row)\n",
    "\n",
    "lookalike_df = pd.DataFrame(lookalike_output, columns=['CustomerID', 'Lookalike1', 'Lookalike2', 'Lookalike3'])\n",
    "lookalike_df.to_csv('Manjushree_Magesh_Lookalike.csv', index=False)\n",
    "print(\"Manjushree_Magesh_Lookalike.csv has been generated successfully!\")\n"
   ]
  },
  {
   "cell_type": "code",
   "execution_count": null,
   "id": "4c295b90-7e51-4526-807d-619c2abc85f3",
   "metadata": {},
   "outputs": [],
   "source": []
  }
 ],
 "metadata": {
  "kernelspec": {
   "display_name": "Python 3 (ipykernel)",
   "language": "python",
   "name": "python3"
  },
  "language_info": {
   "codemirror_mode": {
    "name": "ipython",
    "version": 3
   },
   "file_extension": ".py",
   "mimetype": "text/x-python",
   "name": "python",
   "nbconvert_exporter": "python",
   "pygments_lexer": "ipython3",
   "version": "3.10.11"
  }
 },
 "nbformat": 4,
 "nbformat_minor": 5
}
